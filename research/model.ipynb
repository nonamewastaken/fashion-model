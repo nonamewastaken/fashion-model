{
  "cells": [
    {
      "cell_type": "code",
      "execution_count": 1,
      "metadata": {
        "id": "XsHDQjabCZIh"
      },
      "outputs": [],
      "source": [
        "import pandas as pd\n",
        "import numpy as np\n",
        "from sklearn.model_selection import train_test_split\n",
        "from sklearn.preprocessing import LabelEncoder, StandardScaler\n",
        "from sklearn.ensemble import RandomForestClassifier, RandomForestRegressor\n",
        "from sklearn.metrics import accuracy_score, mean_absolute_error"
      ]
    },
    {
      "cell_type": "markdown",
      "metadata": {
        "id": "IclpbW-CJu0g"
      },
      "source": [
        "Phân tích tổng quan"
      ]
    },
    {
      "cell_type": "code",
      "execution_count": 2,
      "metadata": {
        "id": "TpKqpvGEFFhq"
      },
      "outputs": [],
      "source": [
        "file_path = \"fashion_trend_data.csv\"\n",
        "df = pd.read_csv(file_path)"
      ]
    },
    {
      "cell_type": "code",
      "execution_count": 5,
      "metadata": {
        "id": "hilyMnmeJmc1"
      },
      "outputs": [],
      "source": [
        "df_info = df.info\n",
        "df_head = df.head\n",
        "\n",
        "df_types = df.dtypes\n",
        "df_names = df.columns.tolist()\n",
        "\n",
        "df_null = df.isnull().sum()\n",
        "df_duplicate = df.duplicated().sum()"
      ]
    },
    {
      "cell_type": "code",
      "execution_count": 6,
      "metadata": {
        "colab": {
          "base_uri": "https://localhost:8080/"
        },
        "id": "KxftEpDgJsq-",
        "outputId": "208bd3c9-df8f-495f-e3ba-4e76a8f30f03"
      },
      "outputs": [
        {
          "data": {
            "text/plain": [
              "(<bound method DataFrame.info of                                    User_ID  Age  Gender              Location  \\\n",
              " 0     0e9a893c-69a7-466b-90e2-a9e81734f5eb   26  Female               Eritrea   \n",
              " 1     3d7e7bbf-692b-4eed-950e-95178ff22d12   49    Male             Venezuela   \n",
              " 2     8f63e022-0599-424c-94d8-82c3e17ebdc2   50  Female  Syrian Arab Republic   \n",
              " 3     d77cf66b-a57c-492a-ba4c-c8334c1467a8   49  Female              Paraguay   \n",
              " 4     cc6106d6-d474-4bdb-9fb9-b2118efb230a   27    Male                 Italy   \n",
              " ...                                    ...  ...     ...                   ...   \n",
              " 2995  e4a37dec-e35a-4e00-b7af-5b50de4917bf   30  Female                Sweden   \n",
              " 2996  e5fcd895-6466-47d6-afda-ebb180849aa1   36    Male                  Cuba   \n",
              " 2997  76eb1a44-ceb4-4179-bec7-cd25d40ed7d5   45  Female          Cook Islands   \n",
              " 2998  7a4a18c0-9c85-479f-b678-aa8aeaf8ab88   42  Female               Ukraine   \n",
              " 2999  b2f175e2-2019-4902-8a7d-0ce3655da92f   18  Female               Ecuador   \n",
              " \n",
              "      Fashion_Item   Brand  Price  Rating  \\\n",
              " 0           Jeans  Uniqlo  143.0       3   \n",
              " 1         T-shirt    Zara  414.0       2   \n",
              " 2          Jacket    Nike  250.0       3   \n",
              " 3           Shoes     H&M  172.0       3   \n",
              " 4           Dress     H&M  256.0       4   \n",
              " ...           ...     ...    ...     ...   \n",
              " 2995          Bag  Adidas  205.0       4   \n",
              " 2996        Dress     H&M  259.0       1   \n",
              " 2997       Jacket    Nike   60.0       4   \n",
              " 2998        Dress  Uniqlo  395.0       3   \n",
              " 2999        Dress   Gucci  235.0       4   \n",
              " \n",
              "                                             Review_Text Sentiment  \\\n",
              " 0     Care central fish tend top term so address ear...  Positive   \n",
              " 1     Common seat want only she hair purpose option ...   Neutral   \n",
              " 2     Total pay ever guess if culture message better...  Positive   \n",
              " 3     System certainly person data their turn by be ...  Positive   \n",
              " 4     Hold instead down candidate analysis too effec...  Negative   \n",
              " ...                                                 ...       ...   \n",
              " 2995  Design discussion writer possible expert free ...  Positive   \n",
              " 2996  Letter break again season interest front herse...  Positive   \n",
              " 2997  Attack lose marriage teach study major challen...   Neutral   \n",
              " 2998  Company find black herself attack bank perform...  Positive   \n",
              " 2999  Act ability notice skill drive live single out...   Neutral   \n",
              " \n",
              "      Purchase_Decision  Trendy_Score Review_Date  \n",
              " 0                  Yes            93  2020-08-21  \n",
              " 1                  Yes            89  2023-11-14  \n",
              " 2                   No            75  2023-10-31  \n",
              " 3                  Yes            12         NaN  \n",
              " 4                  Yes            37  2022-02-04  \n",
              " ...                ...           ...         ...  \n",
              " 2995               Yes            88  2023-07-08  \n",
              " 2996               Yes            74  2022-06-04  \n",
              " 2997               Yes            76  2024-08-09  \n",
              " 2998               Yes            20  2020-08-17  \n",
              " 2999               Yes             5  2020-12-04  \n",
              " \n",
              " [3000 rows x 13 columns]>,\n",
              " <bound method NDFrame.head of                                    User_ID  Age  Gender              Location  \\\n",
              " 0     0e9a893c-69a7-466b-90e2-a9e81734f5eb   26  Female               Eritrea   \n",
              " 1     3d7e7bbf-692b-4eed-950e-95178ff22d12   49    Male             Venezuela   \n",
              " 2     8f63e022-0599-424c-94d8-82c3e17ebdc2   50  Female  Syrian Arab Republic   \n",
              " 3     d77cf66b-a57c-492a-ba4c-c8334c1467a8   49  Female              Paraguay   \n",
              " 4     cc6106d6-d474-4bdb-9fb9-b2118efb230a   27    Male                 Italy   \n",
              " ...                                    ...  ...     ...                   ...   \n",
              " 2995  e4a37dec-e35a-4e00-b7af-5b50de4917bf   30  Female                Sweden   \n",
              " 2996  e5fcd895-6466-47d6-afda-ebb180849aa1   36    Male                  Cuba   \n",
              " 2997  76eb1a44-ceb4-4179-bec7-cd25d40ed7d5   45  Female          Cook Islands   \n",
              " 2998  7a4a18c0-9c85-479f-b678-aa8aeaf8ab88   42  Female               Ukraine   \n",
              " 2999  b2f175e2-2019-4902-8a7d-0ce3655da92f   18  Female               Ecuador   \n",
              " \n",
              "      Fashion_Item   Brand  Price  Rating  \\\n",
              " 0           Jeans  Uniqlo  143.0       3   \n",
              " 1         T-shirt    Zara  414.0       2   \n",
              " 2          Jacket    Nike  250.0       3   \n",
              " 3           Shoes     H&M  172.0       3   \n",
              " 4           Dress     H&M  256.0       4   \n",
              " ...           ...     ...    ...     ...   \n",
              " 2995          Bag  Adidas  205.0       4   \n",
              " 2996        Dress     H&M  259.0       1   \n",
              " 2997       Jacket    Nike   60.0       4   \n",
              " 2998        Dress  Uniqlo  395.0       3   \n",
              " 2999        Dress   Gucci  235.0       4   \n",
              " \n",
              "                                             Review_Text Sentiment  \\\n",
              " 0     Care central fish tend top term so address ear...  Positive   \n",
              " 1     Common seat want only she hair purpose option ...   Neutral   \n",
              " 2     Total pay ever guess if culture message better...  Positive   \n",
              " 3     System certainly person data their turn by be ...  Positive   \n",
              " 4     Hold instead down candidate analysis too effec...  Negative   \n",
              " ...                                                 ...       ...   \n",
              " 2995  Design discussion writer possible expert free ...  Positive   \n",
              " 2996  Letter break again season interest front herse...  Positive   \n",
              " 2997  Attack lose marriage teach study major challen...   Neutral   \n",
              " 2998  Company find black herself attack bank perform...  Positive   \n",
              " 2999  Act ability notice skill drive live single out...   Neutral   \n",
              " \n",
              "      Purchase_Decision  Trendy_Score Review_Date  \n",
              " 0                  Yes            93  2020-08-21  \n",
              " 1                  Yes            89  2023-11-14  \n",
              " 2                   No            75  2023-10-31  \n",
              " 3                  Yes            12         NaN  \n",
              " 4                  Yes            37  2022-02-04  \n",
              " ...                ...           ...         ...  \n",
              " 2995               Yes            88  2023-07-08  \n",
              " 2996               Yes            74  2022-06-04  \n",
              " 2997               Yes            76  2024-08-09  \n",
              " 2998               Yes            20  2020-08-17  \n",
              " 2999               Yes             5  2020-12-04  \n",
              " \n",
              " [3000 rows x 13 columns]>)"
            ]
          },
          "execution_count": 6,
          "metadata": {},
          "output_type": "execute_result"
        }
      ],
      "source": [
        "df_info, df_head"
      ]
    },
    {
      "cell_type": "code",
      "execution_count": null,
      "metadata": {
        "colab": {
          "base_uri": "https://localhost:8080/"
        },
        "id": "-WW7NR4NJ8iY",
        "outputId": "fcdc6545-70ac-4806-b4cc-14ab506b1be1"
      },
      "outputs": [
        {
          "data": {
            "text/plain": [
              "(User_ID               object\n",
              " Age                    int64\n",
              " Gender                object\n",
              " Location              object\n",
              " Fashion_Item          object\n",
              " Brand                 object\n",
              " Price                float64\n",
              " Rating                 int64\n",
              " Review_Text           object\n",
              " Sentiment             object\n",
              " Purchase_Decision     object\n",
              " Trendy_Score           int64\n",
              " Review_Date           object\n",
              " dtype: object,\n",
              " ['User_ID',\n",
              "  'Age',\n",
              "  'Gender',\n",
              "  'Location',\n",
              "  'Fashion_Item',\n",
              "  'Brand',\n",
              "  'Price',\n",
              "  'Rating',\n",
              "  'Review_Text',\n",
              "  'Sentiment',\n",
              "  'Purchase_Decision',\n",
              "  'Trendy_Score',\n",
              "  'Review_Date'])"
            ]
          },
          "execution_count": 50,
          "metadata": {},
          "output_type": "execute_result"
        }
      ],
      "source": [
        "df_types, df_names"
      ]
    },
    {
      "cell_type": "code",
      "execution_count": 7,
      "metadata": {
        "colab": {
          "base_uri": "https://localhost:8080/"
        },
        "id": "N6LMIIJeJ9jO",
        "outputId": "923eaa25-f8c6-4f9d-c90b-3fcdfdb08b47"
      },
      "outputs": [
        {
          "data": {
            "text/plain": [
              "(User_ID                0\n",
              " Age                    0\n",
              " Gender                 0\n",
              " Location               0\n",
              " Fashion_Item           0\n",
              " Brand                  0\n",
              " Price                276\n",
              " Rating                 0\n",
              " Review_Text            0\n",
              " Sentiment              0\n",
              " Purchase_Decision      0\n",
              " Trendy_Score           0\n",
              " Review_Date          306\n",
              " dtype: int64,\n",
              " np.int64(0))"
            ]
          },
          "execution_count": 7,
          "metadata": {},
          "output_type": "execute_result"
        }
      ],
      "source": [
        "df_null, df_duplicate"
      ]
    },
    {
      "cell_type": "markdown",
      "metadata": {
        "id": "guApnYYUCwFJ"
      },
      "source": [
        "Xử lý, mã hóa dữ liệu phân loại"
      ]
    },
    {
      "cell_type": "code",
      "execution_count": 8,
      "metadata": {
        "colab": {
          "base_uri": "https://localhost:8080/",
          "height": 1000
        },
        "id": "yj1Fj9PvE_ws",
        "outputId": "a8e91885-f537-48a8-a583-18bb24d9fb11"
      },
      "outputs": [
        {
          "data": {
            "text/html": [
              "<div>\n",
              "<style scoped>\n",
              "    .dataframe tbody tr th:only-of-type {\n",
              "        vertical-align: middle;\n",
              "    }\n",
              "\n",
              "    .dataframe tbody tr th {\n",
              "        vertical-align: top;\n",
              "    }\n",
              "\n",
              "    .dataframe thead th {\n",
              "        text-align: right;\n",
              "    }\n",
              "</style>\n",
              "<table border=\"1\" class=\"dataframe\">\n",
              "  <thead>\n",
              "    <tr style=\"text-align: right;\">\n",
              "      <th></th>\n",
              "      <th>User_ID</th>\n",
              "      <th>Age</th>\n",
              "      <th>Gender</th>\n",
              "      <th>Location</th>\n",
              "      <th>Fashion_Item</th>\n",
              "      <th>Brand</th>\n",
              "      <th>Price</th>\n",
              "      <th>Rating</th>\n",
              "      <th>Review_Text</th>\n",
              "      <th>Sentiment</th>\n",
              "      <th>Purchase_Decision</th>\n",
              "      <th>Trendy_Score</th>\n",
              "      <th>Review_Date</th>\n",
              "    </tr>\n",
              "  </thead>\n",
              "  <tbody>\n",
              "    <tr>\n",
              "      <th>0</th>\n",
              "      <td>0e9a893c-69a7-466b-90e2-a9e81734f5eb</td>\n",
              "      <td>26</td>\n",
              "      <td>Female</td>\n",
              "      <td>Eritrea</td>\n",
              "      <td>Jeans</td>\n",
              "      <td>Uniqlo</td>\n",
              "      <td>143.0</td>\n",
              "      <td>3</td>\n",
              "      <td>Care central fish tend top term so address ear...</td>\n",
              "      <td>Positive</td>\n",
              "      <td>Yes</td>\n",
              "      <td>93</td>\n",
              "      <td>2020-08-21</td>\n",
              "    </tr>\n",
              "    <tr>\n",
              "      <th>1</th>\n",
              "      <td>3d7e7bbf-692b-4eed-950e-95178ff22d12</td>\n",
              "      <td>49</td>\n",
              "      <td>Male</td>\n",
              "      <td>Venezuela</td>\n",
              "      <td>T-shirt</td>\n",
              "      <td>Zara</td>\n",
              "      <td>414.0</td>\n",
              "      <td>2</td>\n",
              "      <td>Common seat want only she hair purpose option ...</td>\n",
              "      <td>Neutral</td>\n",
              "      <td>Yes</td>\n",
              "      <td>89</td>\n",
              "      <td>2023-11-14</td>\n",
              "    </tr>\n",
              "    <tr>\n",
              "      <th>2</th>\n",
              "      <td>8f63e022-0599-424c-94d8-82c3e17ebdc2</td>\n",
              "      <td>50</td>\n",
              "      <td>Female</td>\n",
              "      <td>Syrian Arab Republic</td>\n",
              "      <td>Jacket</td>\n",
              "      <td>Nike</td>\n",
              "      <td>250.0</td>\n",
              "      <td>3</td>\n",
              "      <td>Total pay ever guess if culture message better...</td>\n",
              "      <td>Positive</td>\n",
              "      <td>No</td>\n",
              "      <td>75</td>\n",
              "      <td>2023-10-31</td>\n",
              "    </tr>\n",
              "    <tr>\n",
              "      <th>3</th>\n",
              "      <td>d77cf66b-a57c-492a-ba4c-c8334c1467a8</td>\n",
              "      <td>49</td>\n",
              "      <td>Female</td>\n",
              "      <td>Paraguay</td>\n",
              "      <td>Shoes</td>\n",
              "      <td>H&amp;M</td>\n",
              "      <td>172.0</td>\n",
              "      <td>3</td>\n",
              "      <td>System certainly person data their turn by be ...</td>\n",
              "      <td>Positive</td>\n",
              "      <td>Yes</td>\n",
              "      <td>12</td>\n",
              "      <td>NaN</td>\n",
              "    </tr>\n",
              "    <tr>\n",
              "      <th>4</th>\n",
              "      <td>cc6106d6-d474-4bdb-9fb9-b2118efb230a</td>\n",
              "      <td>27</td>\n",
              "      <td>Male</td>\n",
              "      <td>Italy</td>\n",
              "      <td>Dress</td>\n",
              "      <td>H&amp;M</td>\n",
              "      <td>256.0</td>\n",
              "      <td>4</td>\n",
              "      <td>Hold instead down candidate analysis too effec...</td>\n",
              "      <td>Negative</td>\n",
              "      <td>Yes</td>\n",
              "      <td>37</td>\n",
              "      <td>2022-02-04</td>\n",
              "    </tr>\n",
              "    <tr>\n",
              "      <th>...</th>\n",
              "      <td>...</td>\n",
              "      <td>...</td>\n",
              "      <td>...</td>\n",
              "      <td>...</td>\n",
              "      <td>...</td>\n",
              "      <td>...</td>\n",
              "      <td>...</td>\n",
              "      <td>...</td>\n",
              "      <td>...</td>\n",
              "      <td>...</td>\n",
              "      <td>...</td>\n",
              "      <td>...</td>\n",
              "      <td>...</td>\n",
              "    </tr>\n",
              "    <tr>\n",
              "      <th>2995</th>\n",
              "      <td>e4a37dec-e35a-4e00-b7af-5b50de4917bf</td>\n",
              "      <td>30</td>\n",
              "      <td>Female</td>\n",
              "      <td>Sweden</td>\n",
              "      <td>Bag</td>\n",
              "      <td>Adidas</td>\n",
              "      <td>205.0</td>\n",
              "      <td>4</td>\n",
              "      <td>Design discussion writer possible expert free ...</td>\n",
              "      <td>Positive</td>\n",
              "      <td>Yes</td>\n",
              "      <td>88</td>\n",
              "      <td>2023-07-08</td>\n",
              "    </tr>\n",
              "    <tr>\n",
              "      <th>2996</th>\n",
              "      <td>e5fcd895-6466-47d6-afda-ebb180849aa1</td>\n",
              "      <td>36</td>\n",
              "      <td>Male</td>\n",
              "      <td>Cuba</td>\n",
              "      <td>Dress</td>\n",
              "      <td>H&amp;M</td>\n",
              "      <td>259.0</td>\n",
              "      <td>1</td>\n",
              "      <td>Letter break again season interest front herse...</td>\n",
              "      <td>Positive</td>\n",
              "      <td>Yes</td>\n",
              "      <td>74</td>\n",
              "      <td>2022-06-04</td>\n",
              "    </tr>\n",
              "    <tr>\n",
              "      <th>2997</th>\n",
              "      <td>76eb1a44-ceb4-4179-bec7-cd25d40ed7d5</td>\n",
              "      <td>45</td>\n",
              "      <td>Female</td>\n",
              "      <td>Cook Islands</td>\n",
              "      <td>Jacket</td>\n",
              "      <td>Nike</td>\n",
              "      <td>60.0</td>\n",
              "      <td>4</td>\n",
              "      <td>Attack lose marriage teach study major challen...</td>\n",
              "      <td>Neutral</td>\n",
              "      <td>Yes</td>\n",
              "      <td>76</td>\n",
              "      <td>2024-08-09</td>\n",
              "    </tr>\n",
              "    <tr>\n",
              "      <th>2998</th>\n",
              "      <td>7a4a18c0-9c85-479f-b678-aa8aeaf8ab88</td>\n",
              "      <td>42</td>\n",
              "      <td>Female</td>\n",
              "      <td>Ukraine</td>\n",
              "      <td>Dress</td>\n",
              "      <td>Uniqlo</td>\n",
              "      <td>395.0</td>\n",
              "      <td>3</td>\n",
              "      <td>Company find black herself attack bank perform...</td>\n",
              "      <td>Positive</td>\n",
              "      <td>Yes</td>\n",
              "      <td>20</td>\n",
              "      <td>2020-08-17</td>\n",
              "    </tr>\n",
              "    <tr>\n",
              "      <th>2999</th>\n",
              "      <td>b2f175e2-2019-4902-8a7d-0ce3655da92f</td>\n",
              "      <td>18</td>\n",
              "      <td>Female</td>\n",
              "      <td>Ecuador</td>\n",
              "      <td>Dress</td>\n",
              "      <td>Gucci</td>\n",
              "      <td>235.0</td>\n",
              "      <td>4</td>\n",
              "      <td>Act ability notice skill drive live single out...</td>\n",
              "      <td>Neutral</td>\n",
              "      <td>Yes</td>\n",
              "      <td>5</td>\n",
              "      <td>2020-12-04</td>\n",
              "    </tr>\n",
              "  </tbody>\n",
              "</table>\n",
              "<p>3000 rows × 13 columns</p>\n",
              "</div>"
            ],
            "text/plain": [
              "                                   User_ID  Age  Gender              Location  \\\n",
              "0     0e9a893c-69a7-466b-90e2-a9e81734f5eb   26  Female               Eritrea   \n",
              "1     3d7e7bbf-692b-4eed-950e-95178ff22d12   49    Male             Venezuela   \n",
              "2     8f63e022-0599-424c-94d8-82c3e17ebdc2   50  Female  Syrian Arab Republic   \n",
              "3     d77cf66b-a57c-492a-ba4c-c8334c1467a8   49  Female              Paraguay   \n",
              "4     cc6106d6-d474-4bdb-9fb9-b2118efb230a   27    Male                 Italy   \n",
              "...                                    ...  ...     ...                   ...   \n",
              "2995  e4a37dec-e35a-4e00-b7af-5b50de4917bf   30  Female                Sweden   \n",
              "2996  e5fcd895-6466-47d6-afda-ebb180849aa1   36    Male                  Cuba   \n",
              "2997  76eb1a44-ceb4-4179-bec7-cd25d40ed7d5   45  Female          Cook Islands   \n",
              "2998  7a4a18c0-9c85-479f-b678-aa8aeaf8ab88   42  Female               Ukraine   \n",
              "2999  b2f175e2-2019-4902-8a7d-0ce3655da92f   18  Female               Ecuador   \n",
              "\n",
              "     Fashion_Item   Brand  Price  Rating  \\\n",
              "0           Jeans  Uniqlo  143.0       3   \n",
              "1         T-shirt    Zara  414.0       2   \n",
              "2          Jacket    Nike  250.0       3   \n",
              "3           Shoes     H&M  172.0       3   \n",
              "4           Dress     H&M  256.0       4   \n",
              "...           ...     ...    ...     ...   \n",
              "2995          Bag  Adidas  205.0       4   \n",
              "2996        Dress     H&M  259.0       1   \n",
              "2997       Jacket    Nike   60.0       4   \n",
              "2998        Dress  Uniqlo  395.0       3   \n",
              "2999        Dress   Gucci  235.0       4   \n",
              "\n",
              "                                            Review_Text Sentiment  \\\n",
              "0     Care central fish tend top term so address ear...  Positive   \n",
              "1     Common seat want only she hair purpose option ...   Neutral   \n",
              "2     Total pay ever guess if culture message better...  Positive   \n",
              "3     System certainly person data their turn by be ...  Positive   \n",
              "4     Hold instead down candidate analysis too effec...  Negative   \n",
              "...                                                 ...       ...   \n",
              "2995  Design discussion writer possible expert free ...  Positive   \n",
              "2996  Letter break again season interest front herse...  Positive   \n",
              "2997  Attack lose marriage teach study major challen...   Neutral   \n",
              "2998  Company find black herself attack bank perform...  Positive   \n",
              "2999  Act ability notice skill drive live single out...   Neutral   \n",
              "\n",
              "     Purchase_Decision  Trendy_Score Review_Date  \n",
              "0                  Yes            93  2020-08-21  \n",
              "1                  Yes            89  2023-11-14  \n",
              "2                   No            75  2023-10-31  \n",
              "3                  Yes            12         NaN  \n",
              "4                  Yes            37  2022-02-04  \n",
              "...                ...           ...         ...  \n",
              "2995               Yes            88  2023-07-08  \n",
              "2996               Yes            74  2022-06-04  \n",
              "2997               Yes            76  2024-08-09  \n",
              "2998               Yes            20  2020-08-17  \n",
              "2999               Yes             5  2020-12-04  \n",
              "\n",
              "[3000 rows x 13 columns]"
            ]
          },
          "execution_count": 8,
          "metadata": {},
          "output_type": "execute_result"
        }
      ],
      "source": [
        "data = df.copy()\n",
        "data"
      ]
    },
    {
      "cell_type": "code",
      "execution_count": 9,
      "metadata": {
        "colab": {
          "base_uri": "https://localhost:8080/"
        },
        "id": "mDh4K1neKy38",
        "outputId": "e7505523-7607-424e-84f7-a8707ac2924e"
      },
      "outputs": [
        {
          "data": {
            "text/plain": [
              "np.int64(0)"
            ]
          },
          "execution_count": 9,
          "metadata": {},
          "output_type": "execute_result"
        }
      ],
      "source": [
        "brand_price = data.groupby(\"Brand\")[\"Price\"].mean()\n",
        "brand_price\n",
        "\n",
        "for index, row in df.iterrows():\n",
        "    if pd.isnull(row[\"Price\"]):\n",
        "        data.at[index, \"Price\"] = brand_price[row[\"Brand\"]]\n",
        "\n",
        "data.isnull().sum()[\"Price\"]"
      ]
    },
    {
      "cell_type": "code",
      "execution_count": 10,
      "metadata": {
        "id": "ogh7C2w6C1qa"
      },
      "outputs": [],
      "source": [
        "le = LabelEncoder()\n",
        "data[\"Gender\"] = le.fit_transform(data[\"Gender\"])\n",
        "data[\"Sentiment\"] = le.fit_transform(data[\"Sentiment\"])\n",
        "data[\"Purchase_Decision\"] = le.fit_transform(data[\"Purchase_Decision\"])  # Yes=1, No=0"
      ]
    },
    {
      "cell_type": "markdown",
      "metadata": {
        "id": "kJoOmVioFSXB"
      },
      "source": [
        "Biến đổi cột Brand và Fashion_Item bằng one-hot encoding"
      ]
    },
    {
      "cell_type": "code",
      "execution_count": 11,
      "metadata": {
        "id": "pT2FTj7wFKLk"
      },
      "outputs": [],
      "source": [
        "data = pd.get_dummies(data, columns = [\"Brand\", \"Fashion_Item\"], drop_first = True)"
      ]
    },
    {
      "cell_type": "markdown",
      "metadata": {
        "id": "AgdKsNktFUZd"
      },
      "source": [
        "Chuẩn hóa cột số"
      ]
    },
    {
      "cell_type": "code",
      "execution_count": 12,
      "metadata": {
        "id": "cGQyGiEZFKVO"
      },
      "outputs": [],
      "source": [
        "scaler = StandardScaler()\n",
        "data[[\"Price\", \"Rating\", \"Trendy_Score\", \"Age\"]] = scaler.fit_transform(data[[\"Price\", \"Rating\", \"Trendy_Score\", \"Age\"]])"
      ]
    },
    {
      "cell_type": "markdown",
      "metadata": {
        "id": "6C7Fun4yFXHb"
      },
      "source": [
        "Chia dữ liệu cho mô hình phân loại (dự đoán quyết định mua hàng)"
      ]
    },
    {
      "cell_type": "code",
      "execution_count": 13,
      "metadata": {
        "id": "8lvr2MrZFKe3"
      },
      "outputs": [],
      "source": [
        "X_class = data.drop(columns = [\"Purchase_Decision\", \"Review_Text\", \"Location\", \"Review_Date\", \"User_ID\"])\n",
        "y_class = data[\"Purchase_Decision\"]\n",
        "X_train_c, X_test_c, y_train_c, y_test_c = train_test_split(X_class, y_class, test_size = 0.2, random_state = 42)"
      ]
    },
    {
      "cell_type": "markdown",
      "metadata": {
        "id": "H95z0GksFZhX"
      },
      "source": [
        "Chia dữ liệu cho mô hình hồi quy (dự đoán điểm xu hướng)"
      ]
    },
    {
      "cell_type": "code",
      "execution_count": 16,
      "metadata": {
        "id": "tNLqRNLuFbR4"
      },
      "outputs": [],
      "source": [
        "X_reg = data.drop(columns = [\"Trendy_Score\", \"Review_Text\", \"Location\", \"Review_Date\", \"User_ID\"])\n",
        "y_reg = data[\"Trendy_Score\"]\n",
        "X_train_r, X_test_r, y_train_r, y_test_r = train_test_split(X_reg, y_reg, test_size = 0.2, random_state = 42)"
      ]
    },
    {
      "cell_type": "markdown",
      "metadata": {
        "id": "k0xCQRZxFo9V"
      },
      "source": [
        "Huấn luyện mô hình phân loại"
      ]
    },
    {
      "cell_type": "code",
      "execution_count": 14,
      "metadata": {
        "colab": {
          "base_uri": "https://localhost:8080/"
        },
        "id": "N5c8ZjScFteM",
        "outputId": "f1279c11-8b9b-4171-a8df-83f1c0c3e9dc"
      },
      "outputs": [
        {
          "name": "stdout",
          "output_type": "stream",
          "text": [
            "Accuracy (Purchase Decision): 65.00%\n"
          ]
        }
      ],
      "source": [
        "clf = RandomForestClassifier(n_estimators = 100, random_state = 42)\n",
        "clf.fit(X_train_c, y_train_c)\n",
        "y_pred_c = clf.predict(X_test_c)\n",
        "acc = accuracy_score(y_test_c, y_pred_c)\n",
        "\n",
        "print(f\"Accuracy (Purchase Decision): {acc:.2%}\")"
      ]
    },
    {
      "cell_type": "markdown",
      "metadata": {
        "id": "CKftWFeMFqrQ"
      },
      "source": [
        "Huấn luyện mô hình hồi quy"
      ]
    },
    {
      "cell_type": "code",
      "execution_count": 17,
      "metadata": {
        "colab": {
          "base_uri": "https://localhost:8080/"
        },
        "id": "3R6ywRc5F4N7",
        "outputId": "3369e516-20a1-4d34-dfe8-5169cf78a39b"
      },
      "outputs": [
        {
          "name": "stdout",
          "output_type": "stream",
          "text": [
            "Mean Absolute Error (Trendy Score): 0.8636\n"
          ]
        }
      ],
      "source": [
        "reg = RandomForestRegressor(n_estimators = 100, random_state = 42)\n",
        "reg.fit(X_train_r, y_train_r)\n",
        "y_pred_r = reg.predict(X_test_r)\n",
        "mae = mean_absolute_error(y_test_r, y_pred_r)\n",
        "\n",
        "print(f\"Mean Absolute Error (Trendy Score): {mae:.4f}\")"
      ]
    }
  ],
  "metadata": {
    "colab": {
      "provenance": []
    },
    "kernelspec": {
      "display_name": "Python 3",
      "name": "python3"
    },
    "language_info": {
      "codemirror_mode": {
        "name": "ipython",
        "version": 3
      },
      "file_extension": ".py",
      "mimetype": "text/x-python",
      "name": "python",
      "nbconvert_exporter": "python",
      "pygments_lexer": "ipython3",
      "version": "3.11.13"
    }
  },
  "nbformat": 4,
  "nbformat_minor": 0
}
